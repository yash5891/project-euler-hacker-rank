{
  "nbformat": 4,
  "nbformat_minor": 0,
  "metadata": {
    "colab": {
      "provenance": []
    },
    "kernelspec": {
      "name": "python3",
      "display_name": "Python 3"
    },
    "language_info": {
      "name": "python"
    }
  },
  "cells": [
    {
      "cell_type": "code",
      "execution_count": null,
      "metadata": {
        "id": "V6Ma67pUfnK7"
      },
      "outputs": [],
      "source": [
        "\n"
      ]
    },
    {
      "cell_type": "code",
      "source": [
        "n =int(input())\n",
        "for j in range(n):\n",
        "    x= int(input())\n",
        "    z =[1, 2];\n",
        "    s =2\n",
        "    while(z[-1]+z[-2]<=x):\n",
        "        z.append(z[-2]+z[-1])\n",
        "        if(z[-1]%2 == 0):\n",
        "            s+=z[-1];\n",
        "    print(s)"
      ],
      "metadata": {
        "colab": {
          "base_uri": "https://localhost:8080/"
        },
        "id": "M_nCqBVTfyjI",
        "outputId": "9d0c193f-eac7-4dd9-c414-646c3a00d1d7"
      },
      "execution_count": null,
      "outputs": [
        {
          "output_type": "stream",
          "name": "stdout",
          "text": [
            "100\n"
          ]
        }
      ]
    },
    {
      "cell_type": "code",
      "source": [],
      "metadata": {
        "id": "TbkU4DGkf0WJ"
      },
      "execution_count": null,
      "outputs": []
    }
  ]
}