{
  "nbformat": 4,
  "nbformat_minor": 0,
  "metadata": {
    "colab": {
      "provenance": [],
      "authorship_tag": "ABX9TyONnwMXAaeBUvnpLrvJeIvl",
      "include_colab_link": true
    },
    "kernelspec": {
      "name": "python3",
      "display_name": "Python 3"
    },
    "language_info": {
      "name": "python"
    }
  },
  "cells": [
    {
      "cell_type": "markdown",
      "metadata": {
        "id": "view-in-github",
        "colab_type": "text"
      },
      "source": [
        "<a href=\"https://colab.research.google.com/github/yash5891/project-euler-hacker-rank/blob/main/project_euler_1.ipynb\" target=\"_parent\"><img src=\"https://colab.research.google.com/assets/colab-badge.svg\" alt=\"Open In Colab\"/></a>"
      ]
    },
    {
      "cell_type": "code",
      "execution_count": null,
      "metadata": {
        "id": "7tRTl8bZ5YAS"
      },
      "outputs": [],
      "source": [
        "t=int(input())\n",
        "def ar(x):\n",
        "    return x*(x+1)\n",
        "for i in range(t):\n",
        "    n =int(input())\n",
        "    n -=1\n",
        "    a=int(n/3)\n",
        "    b=int(n/5)\n",
        "    c=int(n/15)\n",
        "    print(int(int(3*ar(a) + 5*ar(b) - 15*ar(c))>>1))"
      ]
    }
  ]
}